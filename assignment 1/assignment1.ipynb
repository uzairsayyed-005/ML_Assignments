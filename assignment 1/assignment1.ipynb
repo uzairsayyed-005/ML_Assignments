{
 "cells": [
  {
   "cell_type": "code",
   "execution_count": null,
   "metadata": {
    "vscode": {
     "languageId": "plaintext"
    }
   },
   "outputs": [],
   "source": [
    "import pandas as pd\n",
    "from google.colab import files\n",
    "\n",
    "uploaded = files.upload()\n",
    "\n",
    "filename = next(iter(uploaded))\n",
    "\n",
    "df = pd.read_csv(filename)\n",
    "\n",
    "print(f\"Column names in the data: {df.columns.tolist()}\\n\")\n",
    "\n",
    "print(f\"Shape of data: {df.shape}\\n\")\n",
    "\n",
    "print(\"Missing values in data:\")\n",
    "print(df.isnull().sum(), end=\"\\n\\n\")\n",
    "\n",
    "print(\"Data types in data:\")\n",
    "print(df.dtypes, end=\"\\n\\n\")\n",
    "\n",
    "print(\"Count of zeros in data:\")\n",
    "print((df == 0).sum(), end=\"\\n\\n\")\n",
    "\n",
    "df_filtered = df[df['Age'] > 30]\n",
    "df_sorted = df.sort_values(by='Age', ascending=False)\n",
    "\n",
    "print(\"Summary statistics of data:\")\n",
    "print(df.describe(), end=\"\\n\\n\")\n",
    "\n",
    "print(\"Unique values in 'Purchased' column:\")\n",
    "print(df['Purchased'].value_counts(), end=\"\\n\\n\")\n",
    "\n",
    "df['Age'] = df['Age'].fillna(df['Age'].mean())\n",
    "df['Age'] = df['Age'].astype('int')\n",
    "\n",
    "print(\"Data types after conversion:\")\n",
    "print(df.dtypes, end=\"\\n\")"
   ]
  }
 ],
 "metadata": {
  "language_info": {
   "name": "python"
  }
 },
 "nbformat": 4,
 "nbformat_minor": 2
}
